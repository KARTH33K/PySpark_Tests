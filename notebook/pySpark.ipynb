{
 "cells": [
  {
   "cell_type": "code",
   "execution_count": 4,
   "metadata": {},
   "outputs": [],
   "source": [
    "import pyspark"
   ]
  },
  {
   "cell_type": "code",
   "execution_count": 5,
   "metadata": {},
   "outputs": [
    {
     "data": {
      "text/html": [
       "<div>\n",
       "<style scoped>\n",
       "    .dataframe tbody tr th:only-of-type {\n",
       "        vertical-align: middle;\n",
       "    }\n",
       "\n",
       "    .dataframe tbody tr th {\n",
       "        vertical-align: top;\n",
       "    }\n",
       "\n",
       "    .dataframe thead th {\n",
       "        text-align: right;\n",
       "    }\n",
       "</style>\n",
       "<table border=\"1\" class=\"dataframe\">\n",
       "  <thead>\n",
       "    <tr style=\"text-align: right;\">\n",
       "      <th></th>\n",
       "      <th>region</th>\n",
       "      <th>category</th>\n",
       "      <th>parameter</th>\n",
       "      <th>mode</th>\n",
       "      <th>powertrain</th>\n",
       "      <th>year</th>\n",
       "      <th>unit</th>\n",
       "      <th>value</th>\n",
       "    </tr>\n",
       "  </thead>\n",
       "  <tbody>\n",
       "    <tr>\n",
       "      <th>0</th>\n",
       "      <td>Australia</td>\n",
       "      <td>Historical</td>\n",
       "      <td>EV stock</td>\n",
       "      <td>Cars</td>\n",
       "      <td>BEV</td>\n",
       "      <td>2011</td>\n",
       "      <td>Vehicles</td>\n",
       "      <td>4.900000e+01</td>\n",
       "    </tr>\n",
       "    <tr>\n",
       "      <th>1</th>\n",
       "      <td>Australia</td>\n",
       "      <td>Historical</td>\n",
       "      <td>EV sales share</td>\n",
       "      <td>Cars</td>\n",
       "      <td>EV</td>\n",
       "      <td>2011</td>\n",
       "      <td>percent</td>\n",
       "      <td>6.500000e-03</td>\n",
       "    </tr>\n",
       "    <tr>\n",
       "      <th>2</th>\n",
       "      <td>Australia</td>\n",
       "      <td>Historical</td>\n",
       "      <td>EV stock share</td>\n",
       "      <td>Cars</td>\n",
       "      <td>EV</td>\n",
       "      <td>2011</td>\n",
       "      <td>percent</td>\n",
       "      <td>4.600000e-04</td>\n",
       "    </tr>\n",
       "    <tr>\n",
       "      <th>3</th>\n",
       "      <td>Australia</td>\n",
       "      <td>Historical</td>\n",
       "      <td>EV sales</td>\n",
       "      <td>Cars</td>\n",
       "      <td>BEV</td>\n",
       "      <td>2011</td>\n",
       "      <td>Vehicles</td>\n",
       "      <td>4.900000e+01</td>\n",
       "    </tr>\n",
       "    <tr>\n",
       "      <th>4</th>\n",
       "      <td>Australia</td>\n",
       "      <td>Historical</td>\n",
       "      <td>EV sales</td>\n",
       "      <td>Cars</td>\n",
       "      <td>BEV</td>\n",
       "      <td>2012</td>\n",
       "      <td>Vehicles</td>\n",
       "      <td>1.700000e+02</td>\n",
       "    </tr>\n",
       "    <tr>\n",
       "      <th>...</th>\n",
       "      <td>...</td>\n",
       "      <td>...</td>\n",
       "      <td>...</td>\n",
       "      <td>...</td>\n",
       "      <td>...</td>\n",
       "      <td>...</td>\n",
       "      <td>...</td>\n",
       "      <td>...</td>\n",
       "    </tr>\n",
       "    <tr>\n",
       "      <th>9537</th>\n",
       "      <td>World</td>\n",
       "      <td>Projection-APS</td>\n",
       "      <td>EV stock</td>\n",
       "      <td>Trucks</td>\n",
       "      <td>PHEV</td>\n",
       "      <td>2030</td>\n",
       "      <td>Vehicles</td>\n",
       "      <td>9.100000e+05</td>\n",
       "    </tr>\n",
       "    <tr>\n",
       "      <th>9538</th>\n",
       "      <td>World</td>\n",
       "      <td>Projection-APS</td>\n",
       "      <td>EV stock</td>\n",
       "      <td>Vans</td>\n",
       "      <td>BEV</td>\n",
       "      <td>2030</td>\n",
       "      <td>Vehicles</td>\n",
       "      <td>1.200000e+07</td>\n",
       "    </tr>\n",
       "    <tr>\n",
       "      <th>9539</th>\n",
       "      <td>World</td>\n",
       "      <td>Projection-APS</td>\n",
       "      <td>EV stock</td>\n",
       "      <td>Vans</td>\n",
       "      <td>PHEV</td>\n",
       "      <td>2030</td>\n",
       "      <td>Vehicles</td>\n",
       "      <td>1.300000e+06</td>\n",
       "    </tr>\n",
       "    <tr>\n",
       "      <th>9540</th>\n",
       "      <td>World</td>\n",
       "      <td>Projection-APS</td>\n",
       "      <td>EV stock</td>\n",
       "      <td>Cars</td>\n",
       "      <td>BEV</td>\n",
       "      <td>2030</td>\n",
       "      <td>Vehicles</td>\n",
       "      <td>1.800000e+08</td>\n",
       "    </tr>\n",
       "    <tr>\n",
       "      <th>9541</th>\n",
       "      <td>World</td>\n",
       "      <td>Projection-APS</td>\n",
       "      <td>EV stock</td>\n",
       "      <td>Cars</td>\n",
       "      <td>PHEV</td>\n",
       "      <td>2030</td>\n",
       "      <td>Vehicles</td>\n",
       "      <td>5.000000e+07</td>\n",
       "    </tr>\n",
       "  </tbody>\n",
       "</table>\n",
       "<p>9542 rows × 8 columns</p>\n",
       "</div>"
      ],
      "text/plain": [
       "         region        category       parameter    mode powertrain  year  \\\n",
       "0     Australia      Historical        EV stock    Cars        BEV  2011   \n",
       "1     Australia      Historical  EV sales share    Cars         EV  2011   \n",
       "2     Australia      Historical  EV stock share    Cars         EV  2011   \n",
       "3     Australia      Historical        EV sales    Cars        BEV  2011   \n",
       "4     Australia      Historical        EV sales    Cars        BEV  2012   \n",
       "...         ...             ...             ...     ...        ...   ...   \n",
       "9537      World  Projection-APS        EV stock  Trucks       PHEV  2030   \n",
       "9538      World  Projection-APS        EV stock    Vans        BEV  2030   \n",
       "9539      World  Projection-APS        EV stock    Vans       PHEV  2030   \n",
       "9540      World  Projection-APS        EV stock    Cars        BEV  2030   \n",
       "9541      World  Projection-APS        EV stock    Cars       PHEV  2030   \n",
       "\n",
       "          unit         value  \n",
       "0     Vehicles  4.900000e+01  \n",
       "1      percent  6.500000e-03  \n",
       "2      percent  4.600000e-04  \n",
       "3     Vehicles  4.900000e+01  \n",
       "4     Vehicles  1.700000e+02  \n",
       "...        ...           ...  \n",
       "9537  Vehicles  9.100000e+05  \n",
       "9538  Vehicles  1.200000e+07  \n",
       "9539  Vehicles  1.300000e+06  \n",
       "9540  Vehicles  1.800000e+08  \n",
       "9541  Vehicles  5.000000e+07  \n",
       "\n",
       "[9542 rows x 8 columns]"
      ]
     },
     "execution_count": 5,
     "metadata": {},
     "output_type": "execute_result"
    }
   ],
   "source": [
    "import pandas as pd\n",
    "pd.read_csv(\"Global EV 2023.csv\")"
   ]
  },
  {
   "cell_type": "code",
   "execution_count": 6,
   "metadata": {},
   "outputs": [],
   "source": [
    "from pyspark.sql import SparkSession"
   ]
  },
  {
   "cell_type": "code",
   "execution_count": 7,
   "metadata": {},
   "outputs": [],
   "source": [
    "spark = SparkSession.builder.appName('Practice').getOrCreate()"
   ]
  },
  {
   "cell_type": "code",
   "execution_count": 8,
   "metadata": {},
   "outputs": [
    {
     "data": {
      "text/html": [
       "\n",
       "            <div>\n",
       "                <p><b>SparkSession - in-memory</b></p>\n",
       "                \n",
       "        <div>\n",
       "            <p><b>SparkContext</b></p>\n",
       "\n",
       "            <p><a href=\"http://KARTH33K:4040\">Spark UI</a></p>\n",
       "\n",
       "            <dl>\n",
       "              <dt>Version</dt>\n",
       "                <dd><code>v3.5.0</code></dd>\n",
       "              <dt>Master</dt>\n",
       "                <dd><code>local[*]</code></dd>\n",
       "              <dt>AppName</dt>\n",
       "                <dd><code>Practice</code></dd>\n",
       "            </dl>\n",
       "        </div>\n",
       "        \n",
       "            </div>\n",
       "        "
      ],
      "text/plain": [
       "<pyspark.sql.session.SparkSession at 0x20b96e21ee0>"
      ]
     },
     "execution_count": 8,
     "metadata": {},
     "output_type": "execute_result"
    }
   ],
   "source": [
    "spark"
   ]
  },
  {
   "cell_type": "code",
   "execution_count": 9,
   "metadata": {},
   "outputs": [],
   "source": [
    "df_pyspark = spark.read.csv(\"Global EV 2023.csv\")"
   ]
  },
  {
   "cell_type": "code",
   "execution_count": 15,
   "metadata": {},
   "outputs": [],
   "source": [
    "df_pyspark = spark.read.option('header','True').csv(\"Global EV 2023.csv\")"
   ]
  },
  {
   "cell_type": "code",
   "execution_count": 16,
   "metadata": {},
   "outputs": [
    {
     "name": "stdout",
     "output_type": "stream",
     "text": [
      "+---------+----------+--------------+----+----------+----+--------+--------------------+\n",
      "|   region|  category|     parameter|mode|powertrain|year|    unit|               value|\n",
      "+---------+----------+--------------+----+----------+----+--------+--------------------+\n",
      "|Australia|Historical|      EV stock|Cars|       BEV|2011|Vehicles|                  49|\n",
      "|Australia|Historical|EV sales share|Cars|        EV|2011| percent|0.006500000134110451|\n",
      "|Australia|Historical|EV stock share|Cars|        EV|2011| percent|0.000460000010207...|\n",
      "|Australia|Historical|      EV sales|Cars|       BEV|2011|Vehicles|                  49|\n",
      "|Australia|Historical|      EV sales|Cars|       BEV|2012|Vehicles|                 170|\n",
      "|Australia|Historical|EV stock share|Cars|        EV|2012| percent| 0.00279999990016222|\n",
      "|Australia|Historical|EV sales share|Cars|        EV|2012| percent|0.029999999329447746|\n",
      "|Australia|Historical|      EV stock|Cars|       BEV|2012|Vehicles|                 220|\n",
      "|Australia|Historical|      EV stock|Cars|      PHEV|2012|Vehicles|                  80|\n",
      "|Australia|Historical|      EV sales|Cars|      PHEV|2012|Vehicles|                  80|\n",
      "|Australia|Historical|      EV sales|Cars|      PHEV|2013|Vehicles|                 100|\n",
      "|Australia|Historical|      EV stock|Cars|      PHEV|2013|Vehicles|                 180|\n",
      "|Australia|Historical|      EV stock|Cars|       BEV|2013|Vehicles|                 410|\n",
      "|Australia|Historical|EV sales share|Cars|        EV|2013| percent| 0.03400000184774399|\n",
      "|Australia|Historical|EV stock share|Cars|        EV|2013| percent|0.005400000140070915|\n",
      "|Australia|Historical|      EV sales|Cars|       BEV|2013|Vehicles|                 190|\n",
      "|Australia|Historical|      EV sales|Cars|       BEV|2014|Vehicles|                 370|\n",
      "|Australia|Historical|EV stock share|Cars|        EV|2014| percent|0.017000000923871994|\n",
      "|Australia|Historical|EV sales share|Cars|        EV|2014| percent|  0.1599999964237213|\n",
      "|Australia|Historical|      EV stock|Cars|       BEV|2014|Vehicles|                 780|\n",
      "+---------+----------+--------------+----+----------+----+--------+--------------------+\n",
      "only showing top 20 rows\n",
      "\n"
     ]
    }
   ],
   "source": [
    "df_pyspark.show()"
   ]
  },
  {
   "cell_type": "code",
   "execution_count": 17,
   "metadata": {},
   "outputs": [
    {
     "data": {
      "text/plain": [
       "pyspark.sql.dataframe.DataFrame"
      ]
     },
     "execution_count": 17,
     "metadata": {},
     "output_type": "execute_result"
    }
   ],
   "source": [
    "type(df_pyspark)"
   ]
  },
  {
   "cell_type": "code",
   "execution_count": 19,
   "metadata": {},
   "outputs": [
    {
     "data": {
      "text/plain": [
       "[Row(region='Australia', category='Historical', parameter='EV stock', mode='Cars', powertrain='BEV', year='2011', unit='Vehicles', value='49'),\n",
       " Row(region='Australia', category='Historical', parameter='EV sales share', mode='Cars', powertrain='EV', year='2011', unit='percent', value='0.006500000134110451'),\n",
       " Row(region='Australia', category='Historical', parameter='EV stock share', mode='Cars', powertrain='EV', year='2011', unit='percent', value='0.0004600000102072954'),\n",
       " Row(region='Australia', category='Historical', parameter='EV sales', mode='Cars', powertrain='BEV', year='2011', unit='Vehicles', value='49'),\n",
       " Row(region='Australia', category='Historical', parameter='EV sales', mode='Cars', powertrain='BEV', year='2012', unit='Vehicles', value='170')]"
      ]
     },
     "execution_count": 19,
     "metadata": {},
     "output_type": "execute_result"
    }
   ],
   "source": [
    "df_pyspark.head(5)"
   ]
  },
  {
   "cell_type": "code",
   "execution_count": 20,
   "metadata": {},
   "outputs": [
    {
     "name": "stdout",
     "output_type": "stream",
     "text": [
      "root\n",
      " |-- region: string (nullable = true)\n",
      " |-- category: string (nullable = true)\n",
      " |-- parameter: string (nullable = true)\n",
      " |-- mode: string (nullable = true)\n",
      " |-- powertrain: string (nullable = true)\n",
      " |-- year: string (nullable = true)\n",
      " |-- unit: string (nullable = true)\n",
      " |-- value: string (nullable = true)\n",
      "\n"
     ]
    }
   ],
   "source": [
    "df_pyspark.printSchema()"
   ]
  },
  {
   "cell_type": "code",
   "execution_count": null,
   "metadata": {},
   "outputs": [],
   "source": []
  }
 ],
 "metadata": {
  "kernelspec": {
   "display_name": "Python 3",
   "language": "python",
   "name": "python3"
  },
  "language_info": {
   "codemirror_mode": {
    "name": "ipython",
    "version": 3
   },
   "file_extension": ".py",
   "mimetype": "text/x-python",
   "name": "python",
   "nbconvert_exporter": "python",
   "pygments_lexer": "ipython3",
   "version": "3.8.18"
  }
 },
 "nbformat": 4,
 "nbformat_minor": 2
}
