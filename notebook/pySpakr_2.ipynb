{
 "cells": [
  {
   "cell_type": "code",
   "execution_count": 2,
   "metadata": {},
   "outputs": [],
   "source": [
    "from pyspark.sql import SparkSession"
   ]
  },
  {
   "cell_type": "code",
   "execution_count": 3,
   "metadata": {},
   "outputs": [],
   "source": [
    "spark = SparkSession.builder.appName('DataFrame').getOrCreate()"
   ]
  },
  {
   "cell_type": "code",
   "execution_count": 4,
   "metadata": {},
   "outputs": [
    {
     "data": {
      "text/html": [
       "\n",
       "            <div>\n",
       "                <p><b>SparkSession - in-memory</b></p>\n",
       "                \n",
       "        <div>\n",
       "            <p><b>SparkContext</b></p>\n",
       "\n",
       "            <p><a href=\"http://KARTH33K:4040\">Spark UI</a></p>\n",
       "\n",
       "            <dl>\n",
       "              <dt>Version</dt>\n",
       "                <dd><code>v3.5.0</code></dd>\n",
       "              <dt>Master</dt>\n",
       "                <dd><code>local[*]</code></dd>\n",
       "              <dt>AppName</dt>\n",
       "                <dd><code>DataFrame</code></dd>\n",
       "            </dl>\n",
       "        </div>\n",
       "        \n",
       "            </div>\n",
       "        "
      ],
      "text/plain": [
       "<pyspark.sql.session.SparkSession at 0x22321ee4790>"
      ]
     },
     "execution_count": 4,
     "metadata": {},
     "output_type": "execute_result"
    }
   ],
   "source": [
    "spark"
   ]
  },
  {
   "cell_type": "code",
   "execution_count": 11,
   "metadata": {},
   "outputs": [],
   "source": [
    "## read dataset\n",
    "df_pyspark = spark.read.option('header','true').csv(\"Global EV 2023.csv\",inferSchema=True)"
   ]
  },
  {
   "cell_type": "code",
   "execution_count": 12,
   "metadata": {},
   "outputs": [
    {
     "name": "stdout",
     "output_type": "stream",
     "text": [
      "+---------+----------+--------------+----+----------+----+--------+--------------------+\n",
      "|   region|  category|     parameter|mode|powertrain|year|    unit|               value|\n",
      "+---------+----------+--------------+----+----------+----+--------+--------------------+\n",
      "|Australia|Historical|      EV stock|Cars|       BEV|2011|Vehicles|                49.0|\n",
      "|Australia|Historical|EV sales share|Cars|        EV|2011| percent|0.006500000134110451|\n",
      "|Australia|Historical|EV stock share|Cars|        EV|2011| percent|4.600000102072954E-4|\n",
      "|Australia|Historical|      EV sales|Cars|       BEV|2011|Vehicles|                49.0|\n",
      "|Australia|Historical|      EV sales|Cars|       BEV|2012|Vehicles|               170.0|\n",
      "|Australia|Historical|EV stock share|Cars|        EV|2012| percent| 0.00279999990016222|\n",
      "|Australia|Historical|EV sales share|Cars|        EV|2012| percent|0.029999999329447746|\n",
      "|Australia|Historical|      EV stock|Cars|       BEV|2012|Vehicles|               220.0|\n",
      "|Australia|Historical|      EV stock|Cars|      PHEV|2012|Vehicles|                80.0|\n",
      "|Australia|Historical|      EV sales|Cars|      PHEV|2012|Vehicles|                80.0|\n",
      "|Australia|Historical|      EV sales|Cars|      PHEV|2013|Vehicles|               100.0|\n",
      "|Australia|Historical|      EV stock|Cars|      PHEV|2013|Vehicles|               180.0|\n",
      "|Australia|Historical|      EV stock|Cars|       BEV|2013|Vehicles|               410.0|\n",
      "|Australia|Historical|EV sales share|Cars|        EV|2013| percent| 0.03400000184774399|\n",
      "|Australia|Historical|EV stock share|Cars|        EV|2013| percent|0.005400000140070915|\n",
      "|Australia|Historical|      EV sales|Cars|       BEV|2013|Vehicles|               190.0|\n",
      "|Australia|Historical|      EV sales|Cars|       BEV|2014|Vehicles|               370.0|\n",
      "|Australia|Historical|EV stock share|Cars|        EV|2014| percent|0.017000000923871994|\n",
      "|Australia|Historical|EV sales share|Cars|        EV|2014| percent|  0.1599999964237213|\n",
      "|Australia|Historical|      EV stock|Cars|       BEV|2014|Vehicles|               780.0|\n",
      "+---------+----------+--------------+----+----------+----+--------+--------------------+\n",
      "only showing top 20 rows\n",
      "\n"
     ]
    }
   ],
   "source": [
    "df_pyspark.show()"
   ]
  },
  {
   "cell_type": "code",
   "execution_count": 13,
   "metadata": {},
   "outputs": [
    {
     "name": "stdout",
     "output_type": "stream",
     "text": [
      "root\n",
      " |-- region: string (nullable = true)\n",
      " |-- category: string (nullable = true)\n",
      " |-- parameter: string (nullable = true)\n",
      " |-- mode: string (nullable = true)\n",
      " |-- powertrain: string (nullable = true)\n",
      " |-- year: integer (nullable = true)\n",
      " |-- unit: string (nullable = true)\n",
      " |-- value: double (nullable = true)\n",
      "\n"
     ]
    }
   ],
   "source": [
    "## check schema\n",
    "df_pyspark.printSchema()"
   ]
  },
  {
   "cell_type": "code",
   "execution_count": 14,
   "metadata": {},
   "outputs": [],
   "source": [
    "df_pyspark = spark.read.csv('Global EV 2023.csv', header=True, inferSchema=True)"
   ]
  },
  {
   "cell_type": "code",
   "execution_count": 16,
   "metadata": {},
   "outputs": [
    {
     "name": "stdout",
     "output_type": "stream",
     "text": [
      "+---------+----------+--------------+----+----------+----+--------+--------------------+\n",
      "|   region|  category|     parameter|mode|powertrain|year|    unit|               value|\n",
      "+---------+----------+--------------+----+----------+----+--------+--------------------+\n",
      "|Australia|Historical|      EV stock|Cars|       BEV|2011|Vehicles|                49.0|\n",
      "|Australia|Historical|EV sales share|Cars|        EV|2011| percent|0.006500000134110451|\n",
      "|Australia|Historical|EV stock share|Cars|        EV|2011| percent|4.600000102072954E-4|\n",
      "|Australia|Historical|      EV sales|Cars|       BEV|2011|Vehicles|                49.0|\n",
      "|Australia|Historical|      EV sales|Cars|       BEV|2012|Vehicles|               170.0|\n",
      "|Australia|Historical|EV stock share|Cars|        EV|2012| percent| 0.00279999990016222|\n",
      "|Australia|Historical|EV sales share|Cars|        EV|2012| percent|0.029999999329447746|\n",
      "|Australia|Historical|      EV stock|Cars|       BEV|2012|Vehicles|               220.0|\n",
      "|Australia|Historical|      EV stock|Cars|      PHEV|2012|Vehicles|                80.0|\n",
      "|Australia|Historical|      EV sales|Cars|      PHEV|2012|Vehicles|                80.0|\n",
      "|Australia|Historical|      EV sales|Cars|      PHEV|2013|Vehicles|               100.0|\n",
      "|Australia|Historical|      EV stock|Cars|      PHEV|2013|Vehicles|               180.0|\n",
      "|Australia|Historical|      EV stock|Cars|       BEV|2013|Vehicles|               410.0|\n",
      "|Australia|Historical|EV sales share|Cars|        EV|2013| percent| 0.03400000184774399|\n",
      "|Australia|Historical|EV stock share|Cars|        EV|2013| percent|0.005400000140070915|\n",
      "|Australia|Historical|      EV sales|Cars|       BEV|2013|Vehicles|               190.0|\n",
      "|Australia|Historical|      EV sales|Cars|       BEV|2014|Vehicles|               370.0|\n",
      "|Australia|Historical|EV stock share|Cars|        EV|2014| percent|0.017000000923871994|\n",
      "|Australia|Historical|EV sales share|Cars|        EV|2014| percent|  0.1599999964237213|\n",
      "|Australia|Historical|      EV stock|Cars|       BEV|2014|Vehicles|               780.0|\n",
      "+---------+----------+--------------+----+----------+----+--------+--------------------+\n",
      "only showing top 20 rows\n",
      "\n"
     ]
    }
   ],
   "source": [
    "df_pyspark.show()"
   ]
  },
  {
   "cell_type": "code",
   "execution_count": 17,
   "metadata": {},
   "outputs": [
    {
     "name": "stdout",
     "output_type": "stream",
     "text": [
      "root\n",
      " |-- region: string (nullable = true)\n",
      " |-- category: string (nullable = true)\n",
      " |-- parameter: string (nullable = true)\n",
      " |-- mode: string (nullable = true)\n",
      " |-- powertrain: string (nullable = true)\n",
      " |-- year: integer (nullable = true)\n",
      " |-- unit: string (nullable = true)\n",
      " |-- value: double (nullable = true)\n",
      "\n"
     ]
    }
   ],
   "source": [
    "df_pyspark.printSchema()"
   ]
  },
  {
   "cell_type": "code",
   "execution_count": null,
   "metadata": {},
   "outputs": [],
   "source": []
  }
 ],
 "metadata": {
  "kernelspec": {
   "display_name": "Python 3",
   "language": "python",
   "name": "python3"
  },
  "language_info": {
   "codemirror_mode": {
    "name": "ipython",
    "version": 3
   },
   "file_extension": ".py",
   "mimetype": "text/x-python",
   "name": "python",
   "nbconvert_exporter": "python",
   "pygments_lexer": "ipython3",
   "version": "3.8.18"
  }
 },
 "nbformat": 4,
 "nbformat_minor": 2
}
