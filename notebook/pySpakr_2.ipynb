{
 "cells": [
  {
   "cell_type": "code",
   "execution_count": 2,
   "metadata": {},
   "outputs": [],
   "source": [
    "from pyspark.sql import SparkSession"
   ]
  },
  {
   "cell_type": "code",
   "execution_count": 3,
   "metadata": {},
   "outputs": [],
   "source": [
    "spark = SparkSession.builder.appName('DataFrame').getOrCreate()"
   ]
  },
  {
   "cell_type": "code",
   "execution_count": 4,
   "metadata": {},
   "outputs": [
    {
     "data": {
      "text/html": [
       "\n",
       "            <div>\n",
       "                <p><b>SparkSession - in-memory</b></p>\n",
       "                \n",
       "        <div>\n",
       "            <p><b>SparkContext</b></p>\n",
       "\n",
       "            <p><a href=\"http://KARTH33K:4040\">Spark UI</a></p>\n",
       "\n",
       "            <dl>\n",
       "              <dt>Version</dt>\n",
       "                <dd><code>v3.5.0</code></dd>\n",
       "              <dt>Master</dt>\n",
       "                <dd><code>local[*]</code></dd>\n",
       "              <dt>AppName</dt>\n",
       "                <dd><code>DataFrame</code></dd>\n",
       "            </dl>\n",
       "        </div>\n",
       "        \n",
       "            </div>\n",
       "        "
      ],
      "text/plain": [
       "<pyspark.sql.session.SparkSession at 0x22321ee4790>"
      ]
     },
     "execution_count": 4,
     "metadata": {},
     "output_type": "execute_result"
    }
   ],
   "source": [
    "spark"
   ]
  },
  {
   "cell_type": "code",
   "execution_count": 11,
   "metadata": {},
   "outputs": [],
   "source": [
    "## read dataset\n",
    "df_pyspark = spark.read.option('header','true').csv(\"Global EV 2023.csv\",inferSchema=True)"
   ]
  },
  {
   "cell_type": "code",
   "execution_count": 12,
   "metadata": {},
   "outputs": [
    {
     "name": "stdout",
     "output_type": "stream",
     "text": [
      "+---------+----------+--------------+----+----------+----+--------+--------------------+\n",
      "|   region|  category|     parameter|mode|powertrain|year|    unit|               value|\n",
      "+---------+----------+--------------+----+----------+----+--------+--------------------+\n",
      "|Australia|Historical|      EV stock|Cars|       BEV|2011|Vehicles|                49.0|\n",
      "|Australia|Historical|EV sales share|Cars|        EV|2011| percent|0.006500000134110451|\n",
      "|Australia|Historical|EV stock share|Cars|        EV|2011| percent|4.600000102072954E-4|\n",
      "|Australia|Historical|      EV sales|Cars|       BEV|2011|Vehicles|                49.0|\n",
      "|Australia|Historical|      EV sales|Cars|       BEV|2012|Vehicles|               170.0|\n",
      "|Australia|Historical|EV stock share|Cars|        EV|2012| percent| 0.00279999990016222|\n",
      "|Australia|Historical|EV sales share|Cars|        EV|2012| percent|0.029999999329447746|\n",
      "|Australia|Historical|      EV stock|Cars|       BEV|2012|Vehicles|               220.0|\n",
      "|Australia|Historical|      EV stock|Cars|      PHEV|2012|Vehicles|                80.0|\n",
      "|Australia|Historical|      EV sales|Cars|      PHEV|2012|Vehicles|                80.0|\n",
      "|Australia|Historical|      EV sales|Cars|      PHEV|2013|Vehicles|               100.0|\n",
      "|Australia|Historical|      EV stock|Cars|      PHEV|2013|Vehicles|               180.0|\n",
      "|Australia|Historical|      EV stock|Cars|       BEV|2013|Vehicles|               410.0|\n",
      "|Australia|Historical|EV sales share|Cars|        EV|2013| percent| 0.03400000184774399|\n",
      "|Australia|Historical|EV stock share|Cars|        EV|2013| percent|0.005400000140070915|\n",
      "|Australia|Historical|      EV sales|Cars|       BEV|2013|Vehicles|               190.0|\n",
      "|Australia|Historical|      EV sales|Cars|       BEV|2014|Vehicles|               370.0|\n",
      "|Australia|Historical|EV stock share|Cars|        EV|2014| percent|0.017000000923871994|\n",
      "|Australia|Historical|EV sales share|Cars|        EV|2014| percent|  0.1599999964237213|\n",
      "|Australia|Historical|      EV stock|Cars|       BEV|2014|Vehicles|               780.0|\n",
      "+---------+----------+--------------+----+----------+----+--------+--------------------+\n",
      "only showing top 20 rows\n",
      "\n"
     ]
    }
   ],
   "source": [
    "df_pyspark.show()"
   ]
  },
  {
   "cell_type": "code",
   "execution_count": 13,
   "metadata": {},
   "outputs": [
    {
     "name": "stdout",
     "output_type": "stream",
     "text": [
      "root\n",
      " |-- region: string (nullable = true)\n",
      " |-- category: string (nullable = true)\n",
      " |-- parameter: string (nullable = true)\n",
      " |-- mode: string (nullable = true)\n",
      " |-- powertrain: string (nullable = true)\n",
      " |-- year: integer (nullable = true)\n",
      " |-- unit: string (nullable = true)\n",
      " |-- value: double (nullable = true)\n",
      "\n"
     ]
    }
   ],
   "source": [
    "## check schema\n",
    "df_pyspark.printSchema()"
   ]
  },
  {
   "cell_type": "code",
   "execution_count": 14,
   "metadata": {},
   "outputs": [],
   "source": [
    "df_pyspark = spark.read.csv('Global EV 2023.csv', header=True, inferSchema=True)"
   ]
  },
  {
   "cell_type": "code",
   "execution_count": 16,
   "metadata": {},
   "outputs": [
    {
     "name": "stdout",
     "output_type": "stream",
     "text": [
      "+---------+----------+--------------+----+----------+----+--------+--------------------+\n",
      "|   region|  category|     parameter|mode|powertrain|year|    unit|               value|\n",
      "+---------+----------+--------------+----+----------+----+--------+--------------------+\n",
      "|Australia|Historical|      EV stock|Cars|       BEV|2011|Vehicles|                49.0|\n",
      "|Australia|Historical|EV sales share|Cars|        EV|2011| percent|0.006500000134110451|\n",
      "|Australia|Historical|EV stock share|Cars|        EV|2011| percent|4.600000102072954E-4|\n",
      "|Australia|Historical|      EV sales|Cars|       BEV|2011|Vehicles|                49.0|\n",
      "|Australia|Historical|      EV sales|Cars|       BEV|2012|Vehicles|               170.0|\n",
      "|Australia|Historical|EV stock share|Cars|        EV|2012| percent| 0.00279999990016222|\n",
      "|Australia|Historical|EV sales share|Cars|        EV|2012| percent|0.029999999329447746|\n",
      "|Australia|Historical|      EV stock|Cars|       BEV|2012|Vehicles|               220.0|\n",
      "|Australia|Historical|      EV stock|Cars|      PHEV|2012|Vehicles|                80.0|\n",
      "|Australia|Historical|      EV sales|Cars|      PHEV|2012|Vehicles|                80.0|\n",
      "|Australia|Historical|      EV sales|Cars|      PHEV|2013|Vehicles|               100.0|\n",
      "|Australia|Historical|      EV stock|Cars|      PHEV|2013|Vehicles|               180.0|\n",
      "|Australia|Historical|      EV stock|Cars|       BEV|2013|Vehicles|               410.0|\n",
      "|Australia|Historical|EV sales share|Cars|        EV|2013| percent| 0.03400000184774399|\n",
      "|Australia|Historical|EV stock share|Cars|        EV|2013| percent|0.005400000140070915|\n",
      "|Australia|Historical|      EV sales|Cars|       BEV|2013|Vehicles|               190.0|\n",
      "|Australia|Historical|      EV sales|Cars|       BEV|2014|Vehicles|               370.0|\n",
      "|Australia|Historical|EV stock share|Cars|        EV|2014| percent|0.017000000923871994|\n",
      "|Australia|Historical|EV sales share|Cars|        EV|2014| percent|  0.1599999964237213|\n",
      "|Australia|Historical|      EV stock|Cars|       BEV|2014|Vehicles|               780.0|\n",
      "+---------+----------+--------------+----+----------+----+--------+--------------------+\n",
      "only showing top 20 rows\n",
      "\n"
     ]
    }
   ],
   "source": [
    "df_pyspark.show()"
   ]
  },
  {
   "cell_type": "code",
   "execution_count": 17,
   "metadata": {},
   "outputs": [
    {
     "name": "stdout",
     "output_type": "stream",
     "text": [
      "root\n",
      " |-- region: string (nullable = true)\n",
      " |-- category: string (nullable = true)\n",
      " |-- parameter: string (nullable = true)\n",
      " |-- mode: string (nullable = true)\n",
      " |-- powertrain: string (nullable = true)\n",
      " |-- year: integer (nullable = true)\n",
      " |-- unit: string (nullable = true)\n",
      " |-- value: double (nullable = true)\n",
      "\n"
     ]
    }
   ],
   "source": [
    "df_pyspark.printSchema()"
   ]
  },
  {
   "cell_type": "code",
   "execution_count": 18,
   "metadata": {},
   "outputs": [
    {
     "data": {
      "text/plain": [
       "pyspark.sql.dataframe.DataFrame"
      ]
     },
     "execution_count": 18,
     "metadata": {},
     "output_type": "execute_result"
    }
   ],
   "source": [
    "type(df_pyspark)"
   ]
  },
  {
   "cell_type": "code",
   "execution_count": 19,
   "metadata": {},
   "outputs": [
    {
     "data": {
      "text/plain": [
       "['region',\n",
       " 'category',\n",
       " 'parameter',\n",
       " 'mode',\n",
       " 'powertrain',\n",
       " 'year',\n",
       " 'unit',\n",
       " 'value']"
      ]
     },
     "execution_count": 19,
     "metadata": {},
     "output_type": "execute_result"
    }
   ],
   "source": [
    "df_pyspark.columns"
   ]
  },
  {
   "cell_type": "code",
   "execution_count": 21,
   "metadata": {},
   "outputs": [
    {
     "name": "stdout",
     "output_type": "stream",
     "text": [
      "+---------+\n",
      "|   region|\n",
      "+---------+\n",
      "|Australia|\n",
      "|Australia|\n",
      "|Australia|\n",
      "|Australia|\n",
      "|Australia|\n",
      "|Australia|\n",
      "|Australia|\n",
      "|Australia|\n",
      "|Australia|\n",
      "|Australia|\n",
      "|Australia|\n",
      "|Australia|\n",
      "|Australia|\n",
      "|Australia|\n",
      "|Australia|\n",
      "|Australia|\n",
      "|Australia|\n",
      "|Australia|\n",
      "|Australia|\n",
      "|Australia|\n",
      "+---------+\n",
      "only showing top 20 rows\n",
      "\n"
     ]
    }
   ],
   "source": [
    "df_pyspark.select('region').show()"
   ]
  },
  {
   "cell_type": "code",
   "execution_count": 22,
   "metadata": {},
   "outputs": [
    {
     "name": "stdout",
     "output_type": "stream",
     "text": [
      "+---------+--------------------+\n",
      "|   region|               value|\n",
      "+---------+--------------------+\n",
      "|Australia|                49.0|\n",
      "|Australia|0.006500000134110451|\n",
      "|Australia|4.600000102072954E-4|\n",
      "|Australia|                49.0|\n",
      "|Australia|               170.0|\n",
      "|Australia| 0.00279999990016222|\n",
      "|Australia|0.029999999329447746|\n",
      "|Australia|               220.0|\n",
      "|Australia|                80.0|\n",
      "|Australia|                80.0|\n",
      "|Australia|               100.0|\n",
      "|Australia|               180.0|\n",
      "|Australia|               410.0|\n",
      "|Australia| 0.03400000184774399|\n",
      "|Australia|0.005400000140070915|\n",
      "|Australia|               190.0|\n",
      "|Australia|               370.0|\n",
      "|Australia|0.017000000923871994|\n",
      "|Australia|  0.1599999964237213|\n",
      "|Australia|               780.0|\n",
      "+---------+--------------------+\n",
      "only showing top 20 rows\n",
      "\n"
     ]
    }
   ],
   "source": [
    "df_pyspark.select(['region', 'value']).show()"
   ]
  },
  {
   "cell_type": "code",
   "execution_count": 25,
   "metadata": {},
   "outputs": [
    {
     "data": {
      "text/plain": [
       "Column<'region'>"
      ]
     },
     "execution_count": 25,
     "metadata": {},
     "output_type": "execute_result"
    }
   ],
   "source": [
    "df_pyspark['region']"
   ]
  },
  {
   "cell_type": "code",
   "execution_count": 26,
   "metadata": {},
   "outputs": [
    {
     "data": {
      "text/plain": [
       "[('region', 'string'),\n",
       " ('category', 'string'),\n",
       " ('parameter', 'string'),\n",
       " ('mode', 'string'),\n",
       " ('powertrain', 'string'),\n",
       " ('year', 'int'),\n",
       " ('unit', 'string'),\n",
       " ('value', 'double')]"
      ]
     },
     "execution_count": 26,
     "metadata": {},
     "output_type": "execute_result"
    }
   ],
   "source": [
    "df_pyspark.dtypes"
   ]
  },
  {
   "cell_type": "code",
   "execution_count": 28,
   "metadata": {},
   "outputs": [
    {
     "name": "stdout",
     "output_type": "stream",
     "text": [
      "+-------+---------+----------------+--------------------+-----+--------------------+------------------+-------+--------------------+\n",
      "|summary|   region|        category|           parameter| mode|          powertrain|              year|   unit|               value|\n",
      "+-------+---------+----------------+--------------------+-----+--------------------+------------------+-------+--------------------+\n",
      "|  count|     9542|            9542|                9542| 9542|                9542|              9542|   9542|                9542|\n",
      "|   mean|     NULL|            NULL|                NULL| NULL|                NULL|2018.3598826241878|   NULL|    233137.782379681|\n",
      "| stddev|     NULL|            NULL|                NULL| NULL|                NULL| 4.590404394019879|   NULL|   3349827.501352053|\n",
      "|    min|Australia|      Historical|  EV charging points|Buses|                 BEV|              2010|    GWh|1.099999963116715...|\n",
      "|    max|    World|Projection-STEPS|Oil displacement,...| Vans|Publicly availabl...|              2030|percent|               1.8E8|\n",
      "+-------+---------+----------------+--------------------+-----+--------------------+------------------+-------+--------------------+\n",
      "\n"
     ]
    }
   ],
   "source": [
    "df_pyspark.describe().show()"
   ]
  },
  {
   "cell_type": "code",
   "execution_count": 31,
   "metadata": {},
   "outputs": [
    {
     "name": "stdout",
     "output_type": "stream",
     "text": [
      "+---------+----------+--------------+----+----------+----+--------+--------------------+--------------------+\n",
      "|   region|  category|     parameter|mode|powertrain|year|    unit|               value|            valuex10|\n",
      "+---------+----------+--------------+----+----------+----+--------+--------------------+--------------------+\n",
      "|Australia|Historical|      EV stock|Cars|       BEV|2011|Vehicles|                49.0|               490.0|\n",
      "|Australia|Historical|EV sales share|Cars|        EV|2011| percent|0.006500000134110451| 0.06500000134110451|\n",
      "|Australia|Historical|EV stock share|Cars|        EV|2011| percent|4.600000102072954E-4|0.004600000102072954|\n",
      "|Australia|Historical|      EV sales|Cars|       BEV|2011|Vehicles|                49.0|               490.0|\n",
      "|Australia|Historical|      EV sales|Cars|       BEV|2012|Vehicles|               170.0|              1700.0|\n",
      "|Australia|Historical|EV stock share|Cars|        EV|2012| percent| 0.00279999990016222|  0.0279999990016222|\n",
      "|Australia|Historical|EV sales share|Cars|        EV|2012| percent|0.029999999329447746| 0.29999999329447746|\n",
      "|Australia|Historical|      EV stock|Cars|       BEV|2012|Vehicles|               220.0|              2200.0|\n",
      "|Australia|Historical|      EV stock|Cars|      PHEV|2012|Vehicles|                80.0|               800.0|\n",
      "|Australia|Historical|      EV sales|Cars|      PHEV|2012|Vehicles|                80.0|               800.0|\n",
      "|Australia|Historical|      EV sales|Cars|      PHEV|2013|Vehicles|               100.0|              1000.0|\n",
      "|Australia|Historical|      EV stock|Cars|      PHEV|2013|Vehicles|               180.0|              1800.0|\n",
      "|Australia|Historical|      EV stock|Cars|       BEV|2013|Vehicles|               410.0|              4100.0|\n",
      "|Australia|Historical|EV sales share|Cars|        EV|2013| percent| 0.03400000184774399|  0.3400000184774399|\n",
      "|Australia|Historical|EV stock share|Cars|        EV|2013| percent|0.005400000140070915| 0.05400000140070915|\n",
      "|Australia|Historical|      EV sales|Cars|       BEV|2013|Vehicles|               190.0|              1900.0|\n",
      "|Australia|Historical|      EV sales|Cars|       BEV|2014|Vehicles|               370.0|              3700.0|\n",
      "|Australia|Historical|EV stock share|Cars|        EV|2014| percent|0.017000000923871994| 0.17000000923871994|\n",
      "|Australia|Historical|EV sales share|Cars|        EV|2014| percent|  0.1599999964237213|  1.5999999642372131|\n",
      "|Australia|Historical|      EV stock|Cars|       BEV|2014|Vehicles|               780.0|              7800.0|\n",
      "+---------+----------+--------------+----+----------+----+--------+--------------------+--------------------+\n",
      "only showing top 20 rows\n",
      "\n"
     ]
    }
   ],
   "source": [
    "## adding columns in dataframe\n",
    "df_pyspark.withColumn('valuex10', df_pyspark['value']*10).show()"
   ]
  },
  {
   "cell_type": "code",
   "execution_count": 32,
   "metadata": {},
   "outputs": [],
   "source": [
    "## adding columns in dataframe\n",
    "df_pyspark = df_pyspark.withColumn('valuex10', df_pyspark['value']*10)"
   ]
  },
  {
   "cell_type": "code",
   "execution_count": 34,
   "metadata": {},
   "outputs": [
    {
     "name": "stdout",
     "output_type": "stream",
     "text": [
      "+---------+----------+--------------+----+----------+----+--------+--------------------+--------------------+\n",
      "|   region|  category|     parameter|mode|powertrain|year|    unit|               value|            valuex10|\n",
      "+---------+----------+--------------+----+----------+----+--------+--------------------+--------------------+\n",
      "|Australia|Historical|      EV stock|Cars|       BEV|2011|Vehicles|                49.0|               490.0|\n",
      "|Australia|Historical|EV sales share|Cars|        EV|2011| percent|0.006500000134110451| 0.06500000134110451|\n",
      "|Australia|Historical|EV stock share|Cars|        EV|2011| percent|4.600000102072954E-4|0.004600000102072954|\n",
      "|Australia|Historical|      EV sales|Cars|       BEV|2011|Vehicles|                49.0|               490.0|\n",
      "|Australia|Historical|      EV sales|Cars|       BEV|2012|Vehicles|               170.0|              1700.0|\n",
      "|Australia|Historical|EV stock share|Cars|        EV|2012| percent| 0.00279999990016222|  0.0279999990016222|\n",
      "|Australia|Historical|EV sales share|Cars|        EV|2012| percent|0.029999999329447746| 0.29999999329447746|\n",
      "|Australia|Historical|      EV stock|Cars|       BEV|2012|Vehicles|               220.0|              2200.0|\n",
      "|Australia|Historical|      EV stock|Cars|      PHEV|2012|Vehicles|                80.0|               800.0|\n",
      "|Australia|Historical|      EV sales|Cars|      PHEV|2012|Vehicles|                80.0|               800.0|\n",
      "|Australia|Historical|      EV sales|Cars|      PHEV|2013|Vehicles|               100.0|              1000.0|\n",
      "|Australia|Historical|      EV stock|Cars|      PHEV|2013|Vehicles|               180.0|              1800.0|\n",
      "|Australia|Historical|      EV stock|Cars|       BEV|2013|Vehicles|               410.0|              4100.0|\n",
      "|Australia|Historical|EV sales share|Cars|        EV|2013| percent| 0.03400000184774399|  0.3400000184774399|\n",
      "|Australia|Historical|EV stock share|Cars|        EV|2013| percent|0.005400000140070915| 0.05400000140070915|\n",
      "|Australia|Historical|      EV sales|Cars|       BEV|2013|Vehicles|               190.0|              1900.0|\n",
      "|Australia|Historical|      EV sales|Cars|       BEV|2014|Vehicles|               370.0|              3700.0|\n",
      "|Australia|Historical|EV stock share|Cars|        EV|2014| percent|0.017000000923871994| 0.17000000923871994|\n",
      "|Australia|Historical|EV sales share|Cars|        EV|2014| percent|  0.1599999964237213|  1.5999999642372131|\n",
      "|Australia|Historical|      EV stock|Cars|       BEV|2014|Vehicles|               780.0|              7800.0|\n",
      "+---------+----------+--------------+----+----------+----+--------+--------------------+--------------------+\n",
      "only showing top 20 rows\n",
      "\n"
     ]
    }
   ],
   "source": [
    "df_pyspark.show()"
   ]
  },
  {
   "cell_type": "code",
   "execution_count": 36,
   "metadata": {},
   "outputs": [],
   "source": [
    "## drop columns\n",
    "df_pyspark = df_pyspark.drop('valuex10')"
   ]
  },
  {
   "cell_type": "code",
   "execution_count": 37,
   "metadata": {},
   "outputs": [
    {
     "name": "stdout",
     "output_type": "stream",
     "text": [
      "+---------+----------+--------------+----+----------+----+--------+--------------------+\n",
      "|   region|  category|     parameter|mode|powertrain|year|    unit|               value|\n",
      "+---------+----------+--------------+----+----------+----+--------+--------------------+\n",
      "|Australia|Historical|      EV stock|Cars|       BEV|2011|Vehicles|                49.0|\n",
      "|Australia|Historical|EV sales share|Cars|        EV|2011| percent|0.006500000134110451|\n",
      "|Australia|Historical|EV stock share|Cars|        EV|2011| percent|4.600000102072954E-4|\n",
      "|Australia|Historical|      EV sales|Cars|       BEV|2011|Vehicles|                49.0|\n",
      "|Australia|Historical|      EV sales|Cars|       BEV|2012|Vehicles|               170.0|\n",
      "|Australia|Historical|EV stock share|Cars|        EV|2012| percent| 0.00279999990016222|\n",
      "|Australia|Historical|EV sales share|Cars|        EV|2012| percent|0.029999999329447746|\n",
      "|Australia|Historical|      EV stock|Cars|       BEV|2012|Vehicles|               220.0|\n",
      "|Australia|Historical|      EV stock|Cars|      PHEV|2012|Vehicles|                80.0|\n",
      "|Australia|Historical|      EV sales|Cars|      PHEV|2012|Vehicles|                80.0|\n",
      "|Australia|Historical|      EV sales|Cars|      PHEV|2013|Vehicles|               100.0|\n",
      "|Australia|Historical|      EV stock|Cars|      PHEV|2013|Vehicles|               180.0|\n",
      "|Australia|Historical|      EV stock|Cars|       BEV|2013|Vehicles|               410.0|\n",
      "|Australia|Historical|EV sales share|Cars|        EV|2013| percent| 0.03400000184774399|\n",
      "|Australia|Historical|EV stock share|Cars|        EV|2013| percent|0.005400000140070915|\n",
      "|Australia|Historical|      EV sales|Cars|       BEV|2013|Vehicles|               190.0|\n",
      "|Australia|Historical|      EV sales|Cars|       BEV|2014|Vehicles|               370.0|\n",
      "|Australia|Historical|EV stock share|Cars|        EV|2014| percent|0.017000000923871994|\n",
      "|Australia|Historical|EV sales share|Cars|        EV|2014| percent|  0.1599999964237213|\n",
      "|Australia|Historical|      EV stock|Cars|       BEV|2014|Vehicles|               780.0|\n",
      "+---------+----------+--------------+----+----------+----+--------+--------------------+\n",
      "only showing top 20 rows\n",
      "\n"
     ]
    }
   ],
   "source": [
    "df_pyspark.show()"
   ]
  },
  {
   "cell_type": "code",
   "execution_count": 38,
   "metadata": {},
   "outputs": [
    {
     "name": "stdout",
     "output_type": "stream",
     "text": [
      "+---------+----------+--------------+----+----------+----+--------+--------------------+\n",
      "|   region|  category|     parameter|mode|powertrain|year|    unit|       Value Revised|\n",
      "+---------+----------+--------------+----+----------+----+--------+--------------------+\n",
      "|Australia|Historical|      EV stock|Cars|       BEV|2011|Vehicles|                49.0|\n",
      "|Australia|Historical|EV sales share|Cars|        EV|2011| percent|0.006500000134110451|\n",
      "|Australia|Historical|EV stock share|Cars|        EV|2011| percent|4.600000102072954E-4|\n",
      "|Australia|Historical|      EV sales|Cars|       BEV|2011|Vehicles|                49.0|\n",
      "|Australia|Historical|      EV sales|Cars|       BEV|2012|Vehicles|               170.0|\n",
      "|Australia|Historical|EV stock share|Cars|        EV|2012| percent| 0.00279999990016222|\n",
      "|Australia|Historical|EV sales share|Cars|        EV|2012| percent|0.029999999329447746|\n",
      "|Australia|Historical|      EV stock|Cars|       BEV|2012|Vehicles|               220.0|\n",
      "|Australia|Historical|      EV stock|Cars|      PHEV|2012|Vehicles|                80.0|\n",
      "|Australia|Historical|      EV sales|Cars|      PHEV|2012|Vehicles|                80.0|\n",
      "|Australia|Historical|      EV sales|Cars|      PHEV|2013|Vehicles|               100.0|\n",
      "|Australia|Historical|      EV stock|Cars|      PHEV|2013|Vehicles|               180.0|\n",
      "|Australia|Historical|      EV stock|Cars|       BEV|2013|Vehicles|               410.0|\n",
      "|Australia|Historical|EV sales share|Cars|        EV|2013| percent| 0.03400000184774399|\n",
      "|Australia|Historical|EV stock share|Cars|        EV|2013| percent|0.005400000140070915|\n",
      "|Australia|Historical|      EV sales|Cars|       BEV|2013|Vehicles|               190.0|\n",
      "|Australia|Historical|      EV sales|Cars|       BEV|2014|Vehicles|               370.0|\n",
      "|Australia|Historical|EV stock share|Cars|        EV|2014| percent|0.017000000923871994|\n",
      "|Australia|Historical|EV sales share|Cars|        EV|2014| percent|  0.1599999964237213|\n",
      "|Australia|Historical|      EV stock|Cars|       BEV|2014|Vehicles|               780.0|\n",
      "+---------+----------+--------------+----+----------+----+--------+--------------------+\n",
      "only showing top 20 rows\n",
      "\n"
     ]
    }
   ],
   "source": [
    "## rename column\n",
    "df_pyspark.withColumnRenamed('Value', \"Value Revised\").show()"
   ]
  },
  {
   "cell_type": "code",
   "execution_count": null,
   "metadata": {},
   "outputs": [],
   "source": []
  }
 ],
 "metadata": {
  "kernelspec": {
   "display_name": "Python 3",
   "language": "python",
   "name": "python3"
  },
  "language_info": {
   "codemirror_mode": {
    "name": "ipython",
    "version": 3
   },
   "file_extension": ".py",
   "mimetype": "text/x-python",
   "name": "python",
   "nbconvert_exporter": "python",
   "pygments_lexer": "ipython3",
   "version": "3.8.18"
  }
 },
 "nbformat": 4,
 "nbformat_minor": 2
}
